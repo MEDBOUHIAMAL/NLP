{
  "nbformat": 4,
  "nbformat_minor": 0,
  "metadata": {
    "colab": {
      "provenance": []
    },
    "kernelspec": {
      "name": "python3",
      "display_name": "Python 3"
    },
    "language_info": {
      "name": "python"
    }
  },
  "cells": [
    {
      "cell_type": "code",
      "execution_count": null,
      "metadata": {
        "id": "g-NrxRzZXuBG"
      },
      "outputs": [],
      "source": [
        "# Importation des bibliothèques\n",
        "from google.colab import drive\n",
        "import numpy as np\n",
        "import pandas as pd\n",
        "import pandas as pd\n",
        "import string\n",
        "import nltk\n",
        "from nltk.corpus import stopwords\n",
        "from nltk.tokenize import word_tokenize\n",
        "import spacy\n",
        "#utiliser le modèle Word2Vec pour traiter vos données. Word2Vec est une technique\n",
        "#populaire d'apprentissage de représentations de mots dans l'espace vectoriel, où\n",
        "from gensim.models import Word2Vec"
      ]
    },
    {
      "cell_type": "code",
      "source": [
        "#Data Preprocessing\n",
        "#montent le lecteur Google Drive dans l'environnement Google Colab, permettant ainsi d'accéder\n",
        "# aux fichiers stockés sur Google Drive dans le notebook Colab\n",
        "drive.mount('/content/drive')"
      ],
      "metadata": {
        "colab": {
          "base_uri": "https://localhost:8080/"
        },
        "id": "dUpdn4nWY785",
        "outputId": "f97300bc-9644-4797-9524-6a855755d252"
      },
      "execution_count": null,
      "outputs": [
        {
          "output_type": "stream",
          "name": "stdout",
          "text": [
            "Mounted at /content/drive\n"
          ]
        }
      ]
    },
    {
      "cell_type": "code",
      "source": [
        "\n",
        "\n",
        "# Ouvrir le fichier en mode lecture ('r')\n",
        "with open('/content/drive/My Drive/data/text', 'r') as file:\n",
        "    # Lire le contenu du fichier\n",
        "    text = file.read()\n",
        "# Afficher le contenu lu\n",
        "\n",
        "print(text)"
      ],
      "metadata": {
        "colab": {
          "base_uri": "https://localhost:8080/"
        },
        "id": "wUhs8eo3ZUHG",
        "outputId": "5de353ea-136c-4051-c703-739a82812fae"
      },
      "execution_count": null,
      "outputs": [
        {
          "output_type": "stream",
          "name": "stdout",
          "text": [
            "**Morocco and Marrakech: A Tapestry of Tradition and Modernity** Morocco, located at the crossroads of Europe and Africa, is a country drenched in history, mystery, and cultural richness. A testament to the ancient civilizations that once flourished here, this North African kingdom boasts a unique blend of Arab, Berber, and European influences. At the heart of Morocco's rich tapestry lies Marrakech, one of its four imperial cities and a vibrant epicenter of tradition and modernity. **Geographical Significance** Morocco is bordered by the Atlantic Ocean to the west, the Mediterranean Sea to the north, Algeria to the east and southeast, and the vast Sahara desert to the south. Its strategic location has historically made it a sought-after territory and a melting pot of cultures, religions, and trade routes. **Marrakech: The Red City** Marrakech, often referred to as \"The Red City\" due to its distinctive red-hued buildings, stands against the backdrop of the snow-capped Atlas Mountains. Established in the 11th century, it has remained a crucial political, economic, and cultural center of Morocco. **Journey through the Medina** Marrakech's old town, the Medina, is a UNESCO World Heritage site and a labyrinthine maze of narrow alleys, bustling souks, and historical landmarks. The Djemaa el-Fna Square lies at the heart of the Medina and comes alive every evening with storytellers, musicians, snake charmers, and food stalls offering tantalizing Moroccan delicacies. **Palaces and Gardens** The city is also home to grand palaces like the Bahia Palace, showcasing intricate Islamic architecture, and the Saadian Tombs, remnants of the Saadian dynasty. The Majorelle Garden, restored by the fashion designer Yves Saint Laurent, is a tranquil oasis of cacti, palm trees, and cobalt blue accents. **Modern Marrakech** While tradition and history permeate Marrakech, the city is not averse to the modern world. Gueliz, the new town, is brimming with contemporary art galleries, stylish cafes, and chic boutiques, offering a stark contrast to the ancient Medina. **Moroccan Cuisine** No journey through Morocco and Marrakech would be complete without indulging in the local cuisine. Tagines, couscous, and pastilla are just a few of the many dishes that combine a plethora of flavors and spices like saffron, cumin, and mint. Paired with Moroccan mint tea, the culinary experience is truly unparalleled. **In Conclusion** Morocco, with Marrakech at its heart, offers travelers an unparalleled journey through time. The convergence of history, culture, architecture, and gastronomy makes it an enthralling destination for those seeking both adventure and reflection. As the Moroccan proverb goes, \"He who does not travel does not know the value of men.\" In the case of Morocco and Marrakech, it's not just the value of men, but also the value of time, tradition, and tales that have spanned centuries.\n"
          ]
        }
      ]
    },
    {
      "cell_type": "code",
      "source": [
        "# Normalisation en minuscules du texte\n",
        "text_En_Miniscule = text.lower()\n"
      ],
      "metadata": {
        "id": "w4ozeJLMZmFB"
      },
      "execution_count": null,
      "outputs": []
    },
    {
      "cell_type": "code",
      "source": [
        "# Définition de la fonction pour supprimer la ponctuation\n",
        "def SpprimerPonctuation(text):\n",
        "    # Crée un traducteur en utilisant str.maketrans pour supprimer la ponctuation.\n",
        "    #string.punctuation est une chaîne prédéfinie de tous les caractères de ponctuation.\n",
        "    translator = str.maketrans('', '', string.punctuation)\n",
        "    #Utilise le traducteur pour supprimer la ponctuation du texte.\n",
        "    text_sans_ponctuation = text.translate(translator)\n",
        "    return text_sans_ponctuation\n",
        "\n",
        "text_sans_ponctuation = SpprimerPonctuation(text_En_Miniscule)\n",
        "\n",
        "print(text_sans_ponctuation)\n"
      ],
      "metadata": {
        "colab": {
          "base_uri": "https://localhost:8080/"
        },
        "id": "o_twJo_lbGyH",
        "outputId": "3fb6e27a-6d9a-433a-86a9-567493261b18"
      },
      "execution_count": null,
      "outputs": [
        {
          "output_type": "stream",
          "name": "stdout",
          "text": [
            "morocco and marrakech a tapestry of tradition and modernity morocco located at the crossroads of europe and africa is a country drenched in history mystery and cultural richness a testament to the ancient civilizations that once flourished here this north african kingdom boasts a unique blend of arab berber and european influences at the heart of moroccos rich tapestry lies marrakech one of its four imperial cities and a vibrant epicenter of tradition and modernity geographical significance morocco is bordered by the atlantic ocean to the west the mediterranean sea to the north algeria to the east and southeast and the vast sahara desert to the south its strategic location has historically made it a soughtafter territory and a melting pot of cultures religions and trade routes marrakech the red city marrakech often referred to as the red city due to its distinctive redhued buildings stands against the backdrop of the snowcapped atlas mountains established in the 11th century it has remained a crucial political economic and cultural center of morocco journey through the medina marrakechs old town the medina is a unesco world heritage site and a labyrinthine maze of narrow alleys bustling souks and historical landmarks the djemaa elfna square lies at the heart of the medina and comes alive every evening with storytellers musicians snake charmers and food stalls offering tantalizing moroccan delicacies palaces and gardens the city is also home to grand palaces like the bahia palace showcasing intricate islamic architecture and the saadian tombs remnants of the saadian dynasty the majorelle garden restored by the fashion designer yves saint laurent is a tranquil oasis of cacti palm trees and cobalt blue accents modern marrakech while tradition and history permeate marrakech the city is not averse to the modern world gueliz the new town is brimming with contemporary art galleries stylish cafes and chic boutiques offering a stark contrast to the ancient medina moroccan cuisine no journey through morocco and marrakech would be complete without indulging in the local cuisine tagines couscous and pastilla are just a few of the many dishes that combine a plethora of flavors and spices like saffron cumin and mint paired with moroccan mint tea the culinary experience is truly unparalleled in conclusion morocco with marrakech at its heart offers travelers an unparalleled journey through time the convergence of history culture architecture and gastronomy makes it an enthralling destination for those seeking both adventure and reflection as the moroccan proverb goes he who does not travel does not know the value of men in the case of morocco and marrakech its not just the value of men but also the value of time tradition and tales that have spanned centuries\n"
          ]
        }
      ]
    },
    {
      "cell_type": "code",
      "source": [
        "#Supprimer stopWords\n",
        "\n",
        "#Télécharger la liste des stopwords et télécharger les données nécessaires pour utiliser le tokenizer (tokeniseur) de NLTK\n",
        "#Télécharge la liste des stopwords de NLTK. Les stopwords sont des mots très courants qui sont\n",
        "#souvent omis lors de l'analyse de texte, car ils ne portent généralement pas beaucoup de sens.\n",
        "nltk.download('stopwords')"
      ],
      "metadata": {
        "colab": {
          "base_uri": "https://localhost:8080/"
        },
        "id": "HWXrXGUrbuMa",
        "outputId": "d054b6b0-caa2-4b94-de44-a41dd0edfda3"
      },
      "execution_count": null,
      "outputs": [
        {
          "output_type": "stream",
          "name": "stderr",
          "text": [
            "[nltk_data] Downloading package stopwords to /root/nltk_data...\n",
            "[nltk_data]   Unzipping corpora/stopwords.zip.\n"
          ]
        },
        {
          "output_type": "execute_result",
          "data": {
            "text/plain": [
              "True"
            ]
          },
          "metadata": {},
          "execution_count": 5
        }
      ]
    },
    {
      "cell_type": "code",
      "source": [
        "# Définition de la fonction pour supprimer les stopwords\n",
        "\n",
        "def SupprimerStopwords(text):\n",
        "       #Crée un ensemble de stopwords en utilisant la liste de stopwords de la langue anglaise fournie par NLTK\n",
        "    stop_words = set(stopwords.words('english'))\n",
        "    #Utilise le tokeniseur de NLTK pour diviser le texte en mots individuels\n",
        "    words = text.split()\n",
        "     #Crée une liste de mots à partir des mots dans word_tokens qui ne sont pas dans la liste des stopwords.\n",
        "    #La comparaison est effectuée en convertissant chaque mot en minuscules.\n",
        "    filtered_text = [word for word in words if word.lower() not in stop_words]\n",
        "    #Renvoie une chaîne de texte en joignant les mots de la liste filtered_text avec\n",
        "    #un espace entre chaque mot\n",
        "    return ' '.join(filtered_text)\n",
        "\n",
        "\n",
        "text_sans_stopwords = SupprimerStopwords(text_sans_ponctuation)\n",
        "print(text_sans_stopwords)"
      ],
      "metadata": {
        "colab": {
          "base_uri": "https://localhost:8080/"
        },
        "id": "UZONYW3TcHqg",
        "outputId": "eae74487-d9ac-4a32-8fc9-73f1ee19d774"
      },
      "execution_count": null,
      "outputs": [
        {
          "output_type": "stream",
          "name": "stdout",
          "text": [
            "morocco marrakech tapestry tradition modernity morocco located crossroads europe africa country drenched history mystery cultural richness testament ancient civilizations flourished north african kingdom boasts unique blend arab berber european influences heart moroccos rich tapestry lies marrakech one four imperial cities vibrant epicenter tradition modernity geographical significance morocco bordered atlantic ocean west mediterranean sea north algeria east southeast vast sahara desert south strategic location historically made soughtafter territory melting pot cultures religions trade routes marrakech red city marrakech often referred red city due distinctive redhued buildings stands backdrop snowcapped atlas mountains established 11th century remained crucial political economic cultural center morocco journey medina marrakechs old town medina unesco world heritage site labyrinthine maze narrow alleys bustling souks historical landmarks djemaa elfna square lies heart medina comes alive every evening storytellers musicians snake charmers food stalls offering tantalizing moroccan delicacies palaces gardens city also home grand palaces like bahia palace showcasing intricate islamic architecture saadian tombs remnants saadian dynasty majorelle garden restored fashion designer yves saint laurent tranquil oasis cacti palm trees cobalt blue accents modern marrakech tradition history permeate marrakech city averse modern world gueliz new town brimming contemporary art galleries stylish cafes chic boutiques offering stark contrast ancient medina moroccan cuisine journey morocco marrakech would complete without indulging local cuisine tagines couscous pastilla many dishes combine plethora flavors spices like saffron cumin mint paired moroccan mint tea culinary experience truly unparalleled conclusion morocco marrakech heart offers travelers unparalleled journey time convergence history culture architecture gastronomy makes enthralling destination seeking adventure reflection moroccan proverb goes travel know value men case morocco marrakech value men also value time tradition tales spanned centuries\n"
          ]
        }
      ]
    },
    {
      "cell_type": "code",
      "source": [
        "#télécharge les données nécessaires pour utiliser le tokeniseur (tokenization) de NLTK.\n",
        "nltk.download('punkt')"
      ],
      "metadata": {
        "colab": {
          "base_uri": "https://localhost:8080/"
        },
        "id": "vYCgf-swcQ6R",
        "outputId": "74949d35-0176-4f0a-cdfe-432a0dcd4239"
      },
      "execution_count": null,
      "outputs": [
        {
          "output_type": "stream",
          "name": "stderr",
          "text": [
            "[nltk_data] Downloading package punkt to /root/nltk_data...\n",
            "[nltk_data]   Unzipping tokenizers/punkt.zip.\n"
          ]
        },
        {
          "output_type": "execute_result",
          "data": {
            "text/plain": [
              "True"
            ]
          },
          "metadata": {},
          "execution_count": 10
        }
      ]
    },
    {
      "cell_type": "code",
      "source": [
        "def tokenize_text(text):\n",
        "    tokens = word_tokenize(text)\n",
        "    return tokens\n",
        "\n",
        "\n",
        "tokens = tokenize_text(text_sans_stopwords)\n",
        "print(tokens)"
      ],
      "metadata": {
        "colab": {
          "base_uri": "https://localhost:8080/"
        },
        "id": "Iflz-vGncwIq",
        "outputId": "fd3873a2-99d4-4b47-c1f0-58d37d54b96d"
      },
      "execution_count": null,
      "outputs": [
        {
          "output_type": "stream",
          "name": "stdout",
          "text": [
            "['morocco', 'marrakech', 'tapestry', 'tradition', 'modernity', 'morocco', 'located', 'crossroads', 'europe', 'africa', 'country', 'drenched', 'history', 'mystery', 'cultural', 'richness', 'testament', 'ancient', 'civilizations', 'flourished', 'north', 'african', 'kingdom', 'boasts', 'unique', 'blend', 'arab', 'berber', 'european', 'influences', 'heart', 'moroccos', 'rich', 'tapestry', 'lies', 'marrakech', 'one', 'four', 'imperial', 'cities', 'vibrant', 'epicenter', 'tradition', 'modernity', 'geographical', 'significance', 'morocco', 'bordered', 'atlantic', 'ocean', 'west', 'mediterranean', 'sea', 'north', 'algeria', 'east', 'southeast', 'vast', 'sahara', 'desert', 'south', 'strategic', 'location', 'historically', 'made', 'soughtafter', 'territory', 'melting', 'pot', 'cultures', 'religions', 'trade', 'routes', 'marrakech', 'red', 'city', 'marrakech', 'often', 'referred', 'red', 'city', 'due', 'distinctive', 'redhued', 'buildings', 'stands', 'backdrop', 'snowcapped', 'atlas', 'mountains', 'established', '11th', 'century', 'remained', 'crucial', 'political', 'economic', 'cultural', 'center', 'morocco', 'journey', 'medina', 'marrakechs', 'old', 'town', 'medina', 'unesco', 'world', 'heritage', 'site', 'labyrinthine', 'maze', 'narrow', 'alleys', 'bustling', 'souks', 'historical', 'landmarks', 'djemaa', 'elfna', 'square', 'lies', 'heart', 'medina', 'comes', 'alive', 'every', 'evening', 'storytellers', 'musicians', 'snake', 'charmers', 'food', 'stalls', 'offering', 'tantalizing', 'moroccan', 'delicacies', 'palaces', 'gardens', 'city', 'also', 'home', 'grand', 'palaces', 'like', 'bahia', 'palace', 'showcasing', 'intricate', 'islamic', 'architecture', 'saadian', 'tombs', 'remnants', 'saadian', 'dynasty', 'majorelle', 'garden', 'restored', 'fashion', 'designer', 'yves', 'saint', 'laurent', 'tranquil', 'oasis', 'cacti', 'palm', 'trees', 'cobalt', 'blue', 'accents', 'modern', 'marrakech', 'tradition', 'history', 'permeate', 'marrakech', 'city', 'averse', 'modern', 'world', 'gueliz', 'new', 'town', 'brimming', 'contemporary', 'art', 'galleries', 'stylish', 'cafes', 'chic', 'boutiques', 'offering', 'stark', 'contrast', 'ancient', 'medina', 'moroccan', 'cuisine', 'journey', 'morocco', 'marrakech', 'would', 'complete', 'without', 'indulging', 'local', 'cuisine', 'tagines', 'couscous', 'pastilla', 'many', 'dishes', 'combine', 'plethora', 'flavors', 'spices', 'like', 'saffron', 'cumin', 'mint', 'paired', 'moroccan', 'mint', 'tea', 'culinary', 'experience', 'truly', 'unparalleled', 'conclusion', 'morocco', 'marrakech', 'heart', 'offers', 'travelers', 'unparalleled', 'journey', 'time', 'convergence', 'history', 'culture', 'architecture', 'gastronomy', 'makes', 'enthralling', 'destination', 'seeking', 'adventure', 'reflection', 'moroccan', 'proverb', 'goes', 'travel', 'know', 'value', 'men', 'case', 'morocco', 'marrakech', 'value', 'men', 'also', 'value', 'time', 'tradition', 'tales', 'spanned', 'centuries']\n"
          ]
        }
      ]
    },
    {
      "cell_type": "code",
      "source": [
        "#Lemmatisation\n",
        "\n",
        "\n",
        "# charge le modèle de langue spaCy pour le traitement du langage naturel en anglais.\n",
        "# Cela permet d'utiliser les fonctionnalités de spaCy, y compris la lemmatisation, sur le texte\n",
        "nlp = spacy.load('en_core_web_sm')\n",
        "\n",
        "\n",
        "def lemmatize_tokens(tokens):\n",
        "  # Joindre les tokens en une chaîne de texte\n",
        "    text = \" \".join(tokens)\n",
        "      # Appliquer la lemmatisation avec spaCy\n",
        "    doc = nlp(text)\n",
        "     # Renvoyer les lemmes des tokens\n",
        "    return [token.lemma_ for token in doc]\n",
        "\n",
        "\n",
        "# Appliquer la fonction à une liste de tokens\n",
        "lemmatized_tokens = lemmatize_tokens(tokens)\n",
        "# Afficher les tokens lemmatisés\n",
        "\n",
        "print(lemmatized_tokens)\n"
      ],
      "metadata": {
        "colab": {
          "base_uri": "https://localhost:8080/"
        },
        "id": "IgZSSlA_c0JV",
        "outputId": "1ae856f1-53d2-4ade-caa7-2f0191ad30ea"
      },
      "execution_count": null,
      "outputs": [
        {
          "output_type": "stream",
          "name": "stdout",
          "text": [
            "['morocco', 'marrakech', 'tapestry', 'tradition', 'modernity', 'morocco', 'locate', 'crossroad', 'europe', 'africa', 'country', 'drench', 'history', 'mystery', 'cultural', 'richness', 'testament', 'ancient', 'civilization', 'flourish', 'north', 'african', 'kingdom', 'boast', 'unique', 'blend', 'arab', 'berber', 'european', 'influence', 'heart', 'morocco', 'rich', 'tapestry', 'lie', 'marrakech', 'one', 'four', 'imperial', 'city', 'vibrant', 'epicenter', 'tradition', 'modernity', 'geographical', 'significance', 'morocco', 'border', 'atlantic', 'ocean', 'west', 'mediterranean', 'sea', 'north', 'algeria', 'east', 'southeast', 'vast', 'sahara', 'desert', 'south', 'strategic', 'location', 'historically', 'make', 'soughtafter', 'territory', 'melting', 'pot', 'culture', 'religion', 'trade', 'route', 'marrakech', 'red', 'city', 'marrakech', 'often', 'refer', 'red', 'city', 'due', 'distinctive', 'redhue', 'building', 'stand', 'backdrop', 'snowcappe', 'atlas', 'mountain', 'establish', '11th', 'century', 'remain', 'crucial', 'political', 'economic', 'cultural', 'center', 'morocco', 'journey', 'medina', 'marrakechs', 'old', 'town', 'medina', 'unesco', 'world', 'heritage', 'site', 'labyrinthine', 'maze', 'narrow', 'alley', 'bustle', 'souks', 'historical', 'landmark', 'djemaa', 'elfna', 'square', 'lies', 'heart', 'medina', 'come', 'alive', 'every', 'evening', 'storyteller', 'musician', 'snake', 'charmer', 'food', 'stall', 'offer', 'tantalize', 'moroccan', 'delicacies', 'palaces', 'gardens', 'city', 'also', 'home', 'grand', 'palace', 'like', 'bahia', 'palace', 'showcase', 'intricate', 'islamic', 'architecture', 'saadian', 'tomb', 'remnant', 'saadian', 'dynasty', 'majorelle', 'garden', 'restore', 'fashion', 'designer', 'yve', 'saint', 'laurent', 'tranquil', 'oasis', 'cacti', 'palm', 'tree', 'cobalt', 'blue', 'accent', 'modern', 'marrakech', 'tradition', 'history', 'permeate', 'marrakech', 'city', 'averse', 'modern', 'world', 'gueliz', 'new', 'town', 'brim', 'contemporary', 'art', 'gallery', 'stylish', 'cafe', 'chic', 'boutique', 'offer', 'stark', 'contrast', 'ancient', 'medina', 'moroccan', 'cuisine', 'journey', 'morocco', 'marrakech', 'would', 'complete', 'without', 'indulge', 'local', 'cuisine', 'tagine', 'couscous', 'pastilla', 'many', 'dish', 'combine', 'plethora', 'flavors', 'spice', 'like', 'saffron', 'cumin', 'mint', 'pair', 'moroccan', 'mint', 'tea', 'culinary', 'experience', 'truly', 'unparalleled', 'conclusion', 'morocco', 'marrakech', 'heart', 'offer', 'traveler', 'unparalleled', 'journey', 'time', 'convergence', 'history', 'culture', 'architecture', 'gastronomy', 'make', 'enthral', 'destination', 'seek', 'adventure', 'reflection', 'moroccan', 'proverb', 'go', 'travel', 'know', 'value', 'man', 'case', 'morocco', 'marrakech', 'value', 'man', 'also', 'value', 'time', 'tradition', 'tale', 'span', 'century']\n"
          ]
        }
      ]
    },
    {
      "cell_type": "code",
      "source": [
        "#vectorisation\n",
        "# créer un modèle Word2Vec en utilisant la bibliothèque Gensim\n",
        "#vector_size=100:  chaque mot sera représenté par un vecteur de 100 dimensions.\n",
        "#min_count=1: tous les mots seront pris en compte, même s'ils n'apparaissent qu'une seule fois.\n",
        "#workers=4: Spécifie le nombre de cœurs du processeur à utiliser lors de l'entraînement du modèle en parallèle.\n",
        "model = Word2Vec(sentences=[lemmatized_tokens], vector_size=100, window=5, min_count=1, workers=4)\n"
      ],
      "metadata": {
        "id": "TykGEL-bdbHG"
      },
      "execution_count": null,
      "outputs": []
    },
    {
      "cell_type": "code",
      "source": [
        "# extraire la représentation vectorielle du mot \"tradition\" à partir du modèle Word2Vec qu on a créé\n",
        "word = model.wv['tradition']\n",
        "print(f'Vecteur du mot \"tradition\": {word}')"
      ],
      "metadata": {
        "colab": {
          "base_uri": "https://localhost:8080/"
        },
        "id": "JxV64D7xdvwf",
        "outputId": "a4824014-d5c3-422e-e697-f833d93cc1e7"
      },
      "execution_count": null,
      "outputs": [
        {
          "output_type": "stream",
          "name": "stdout",
          "text": [
            "Vecteur du mot \"tradition\": [-0.00717458  0.00126966 -0.00714438 -0.00224606  0.00373261  0.00577012\n",
            "  0.00122086  0.00218895 -0.00414456  0.00718591 -0.00630897  0.00459707\n",
            " -0.00820428  0.00203935 -0.00499117 -0.00429372 -0.00308585  0.00556525\n",
            "  0.00580508 -0.0050543   0.00076295 -0.00852395  0.00784486  0.00922771\n",
            " -0.00275235  0.00082861  0.00073165  0.00543514 -0.00867185  0.00061414\n",
            "  0.00688182  0.00229617  0.00112316 -0.00933964  0.00845546 -0.00617805\n",
            " -0.00299161  0.00344831 -0.00075985  0.0013179   0.00176916 -0.00691761\n",
            " -0.00974486  0.00904466  0.00622824 -0.00687689  0.00340906  0.00017238\n",
            "  0.00477618 -0.00708143  0.00407225  0.0043228   0.01000488 -0.00447688\n",
            " -0.00143261 -0.00729297 -0.00968993 -0.00907973 -0.00106636 -0.00647578\n",
            "  0.00485248 -0.00614422  0.00252185  0.00068958 -0.00344282 -0.00097183\n",
            "  0.0100321   0.00921306 -0.00451506  0.00916448 -0.00569884  0.00595305\n",
            " -0.00306806  0.00341787  0.00308264  0.00693998 -0.00237167  0.00876564\n",
            "  0.00751767 -0.00949212 -0.00798877 -0.00762787  0.00286159 -0.00270691\n",
            " -0.00696357 -0.00811149  0.00836283  0.00203764 -0.00928646 -0.00479258\n",
            "  0.00320951 -0.00467589  0.0052855  -0.00418856  0.00273035 -0.0079904\n",
            "  0.00627874  0.00473254  0.00080714  0.00295137]\n"
          ]
        }
      ]
    },
    {
      "cell_type": "code",
      "source": [
        "#calcule la similarité entre les mots \"country\" et \"morocco\" en utilisant le modèle Word2Vec qu on a  créé\n",
        "similarity = model.wv.similarity('country', 'morocco')\n",
        "print({similarity})"
      ],
      "metadata": {
        "colab": {
          "base_uri": "https://localhost:8080/"
        },
        "id": "kXKdO-vNeEPY",
        "outputId": "560e6015-9b82-4d68-fc68-85f7003b35ba"
      },
      "execution_count": null,
      "outputs": [
        {
          "output_type": "stream",
          "name": "stdout",
          "text": [
            "{0.028063182}\n"
          ]
        }
      ]
    },
    {
      "cell_type": "code",
      "source": [
        "#extraire les mots contextuels les plus similaires au mot \"africa\" à partir du modèle Word2Vec qu on a créé.\n",
        "#Le paramètre topn spécifie le nombre de mots similaires à retourner, dans ce cas, les 3 mots les plus similaires.\n",
        "contextual_words = model.wv.most_similar('africa', topn=3)\n",
        "print(f'Mots contextuels pour \"africa\": {contextual_words}')"
      ],
      "metadata": {
        "colab": {
          "base_uri": "https://localhost:8080/"
        },
        "id": "gJ8I8GQfehMS",
        "outputId": "70fdea68-3275-46b8-9131-73d0e600b20d"
      },
      "execution_count": null,
      "outputs": [
        {
          "output_type": "stream",
          "name": "stdout",
          "text": [
            "Mots contextuels pour \"africa\": [('tradition', 0.26944199204444885), ('sahara', 0.25470951199531555), ('unparalleled', 0.25083649158477783)]\n"
          ]
        }
      ]
    }
  ]
}